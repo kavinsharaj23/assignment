{
 "cells": [
  {
   "cell_type": "markdown",
   "metadata": {},
   "source": [
    "# question 1"
   ]
  },
  {
   "cell_type": "code",
   "execution_count": 22,
   "metadata": {},
   "outputs": [
    {
     "name": "stdout",
     "output_type": "stream",
     "text": [
      "False\n"
     ]
    }
   ],
   "source": [
    "#Example_1\n",
    "def authentic_skewer(n):\n",
    "    vowels=[\"A\",\"E\",\"I\",\"O\",\"U\"]\n",
    "    a=[]\n",
    "    b=[]\n",
    "    n=n.upper()\n",
    "    n=n.split(\"--\")\n",
    "    if n[0] and n[-1] in vowels:\n",
    "        print(False)\n",
    "    else:\n",
    "        for i in range(len(vowels)):\n",
    "            if n[i] in vowels:\n",
    "                a.append(i)\n",
    "\n",
    "        for j in range(0,a[-1]+1):\n",
    "            if j%2 !=0:\n",
    "                b.append(j)\n",
    "\n",
    "        if a==b:\n",
    "            print(True)\n",
    "        else:\n",
    "            print(False)\n",
    "authentic_skewer('A--X--E')"
   ]
  },
  {
   "cell_type": "code",
   "execution_count": 20,
   "metadata": {},
   "outputs": [
    {
     "name": "stdout",
     "output_type": "stream",
     "text": [
      "True\n"
     ]
    }
   ],
   "source": [
    "#Example_2\n",
    "def authentic_skewer(n):\n",
    "    vowels=[\"A\",\"E\",\"I\",\"O\",\"U\"]\n",
    "    a=[]\n",
    "    b=[]\n",
    "    n=n.upper()\n",
    "    n=n.split(\"--\")\n",
    "    if n[0] and n[-1] in vowels:\n",
    "        print(False)\n",
    "    else:\n",
    "        for i in range(len(vowels)):\n",
    "            if n[i] in vowels:\n",
    "                a.append(i)\n",
    "\n",
    "        for j in range(0,a[-1]+1):\n",
    "            if j%2 !=0:\n",
    "                b.append(j)\n",
    "\n",
    "        if a==b:\n",
    "            print(True)\n",
    "        else:\n",
    "            print(False)\n",
    "authentic_skewer(\"B--A--N--A--N--A--S\")"
   ]
  },
  {
   "cell_type": "markdown",
   "metadata": {},
   "source": [
    "# question 4"
   ]
  },
  {
   "cell_type": "code",
   "execution_count": 31,
   "metadata": {},
   "outputs": [
    {
     "name": "stdout",
     "output_type": "stream",
     "text": [
      "Next large number :  91\n"
     ]
    }
   ],
   "source": [
    "import itertools\n",
    "#Example_1\n",
    "def next_num(a):\n",
    "    return min(v for v in (int(\"\".join(x)) for x in\n",
    "    itertools.permutations(str(a))) if v>a)\n",
    "print('Next large number : ',next_num(19))\n"
   ]
  },
  {
   "cell_type": "code",
   "execution_count": 33,
   "metadata": {},
   "outputs": [
    {
     "name": "stdout",
     "output_type": "stream",
     "text": [
      "Next large number :  59348\n"
     ]
    }
   ],
   "source": [
    "#Example_2\n",
    "def next_num(a):\n",
    "    return min(v for v in (int(\"\".join(x)) for x in\n",
    "    itertools.permutations(str(a))) if v>a)\n",
    "print('Next large number : ',next_num(58943))\n"
   ]
  },
  {
   "cell_type": "markdown",
   "metadata": {},
   "source": [
    "# question 6"
   ]
  },
  {
   "cell_type": "code",
   "execution_count": 37,
   "metadata": {},
   "outputs": [
    {
     "name": "stdout",
     "output_type": "stream",
     "text": [
      "list_1 : [5, 1, 22, 25, 6, -1, 8, 10]\n",
      " list_2 : [22, 25, 6]\n",
      "True\n"
     ]
    }
   ],
   "source": [
    "#example_1\n",
    "list_1= [5, 1, 22, 25, 6, -1, 8, 10]\n",
    "list_2 = [22, 25, 6]\n",
    " \n",
    "print (\"list_1 : \" + str(list_1))\n",
    "print (\" list_2 : \" + str(list_2))\n",
    " \n",
    "count= 0\n",
    "if(all(x in list_1 for x in list_2)):\n",
    "    count= 1\n",
    "     \n",
    "if (count) :\n",
    "    print (\"True\")\n",
    "else :\n",
    "    print (\"false\")"
   ]
  },
  {
   "cell_type": "code",
   "execution_count": 49,
   "metadata": {},
   "outputs": [
    {
     "name": "stdout",
     "output_type": "stream",
     "text": [
      "list_1 : [1, 2, 3, 4]\n",
      "list_2 : [2, 4]\n",
      "True\n"
     ]
    }
   ],
   "source": [
    "#example_2\n",
    "list_1= [1, 2, 3, 4]\n",
    "list_2 = [2, 4]\n",
    " \n",
    "print (\"list_1 : \" + str(list_1))\n",
    "print (\"list_2 : \" + str(list_2))\n",
    " \n",
    "count= 0\n",
    "if(all(x in list_1 for x in list_2)):\n",
    "    count= 1\n",
    "     \n",
    "if (count) :\n",
    "    print (\"True\")\n",
    "else :\n",
    "    print (\"false\")"
   ]
  },
  {
   "cell_type": "markdown",
   "metadata": {},
   "source": [
    "# question 3"
   ]
  },
  {
   "cell_type": "code",
   "execution_count": 46,
   "metadata": {},
   "outputs": [
    {
     "name": "stdout",
     "output_type": "stream",
     "text": [
      "Flattened Curves:  [696, 'friend', 'power', 'Marcus', 'philus']\n"
     ]
    }
   ],
   "source": [
    "#Example_1\n",
    "def flatten_curve(sentence):\n",
    "    if sentence == []:\n",
    "        return sentence\n",
    "    if isinstance(sentence[0], list):\n",
    "        return flatten_curve(sentence[0]) + flatten_curve(sentence[1:])\n",
    "    return sentence[:1] + flatten(sentence[1:]) \n",
    "sentence=(([[696], [\"friend\"], [\"power\"], [[[[\"Marcus\"]]]], [\"philus\"]]))\n",
    "print(\"Flattened Curves: \",flatten_curve(sentence))"
   ]
  },
  {
   "cell_type": "code",
   "execution_count": 47,
   "metadata": {},
   "outputs": [
    {
     "name": "stdout",
     "output_type": "stream",
     "text": [
      "Flattened Curves:  ['deep', 'ocean', 'Marge', 'rase', 876]\n"
     ]
    }
   ],
   "source": [
    "#Example_2\n",
    "def flatten_curve(sentence):\n",
    "    if sentence == []:\n",
    "        return sentence\n",
    "    if isinstance(sentence[0], list):\n",
    "        return flatten_curve(sentence[0]) + flatten_curve(sentence[1:])\n",
    "    return sentence[:1] + flatten(sentence[1:]) \n",
    "sentence=(([[[\"deep\"], [[[\"ocean\"]]], [[\"Marge\"]], [\"rase\", 876]]]))\n",
    "print(\"Flattened Curves: \",flatten_curve(sentence))"
   ]
  },
  {
   "cell_type": "markdown",
   "metadata": {},
   "source": [
    "# question 2"
   ]
  },
  {
   "cell_type": "code",
   "execution_count": 18,
   "metadata": {},
   "outputs": [
    {
     "name": "stdout",
     "output_type": "stream",
     "text": [
      "num_1: 0\n",
      "num_2: 10\n",
      "0\n",
      "1\n",
      "2\n",
      "3\n",
      "4\n",
      "5\n",
      "6\n",
      "7\n",
      "8\n",
      "9\n",
      "None\n"
     ]
    }
   ],
   "source": [
    "#example_1\n",
    "def num_range(num_1,num_2):\n",
    "    if num_1<num_2:\n",
    "        print(num_1)\n",
    "        num_range(num_1+1,num_2)\n",
    "    elif num_1>num_2:\n",
    "        return (list(range(num_1,num_2-1,-1)))\n",
    "num_1=int(input(\"num_1: \"))\n",
    "num_2=int(input(\"num_2: \"))\n",
    "print(num_range(num_1,num_2))"
   ]
  },
  {
   "cell_type": "code",
   "execution_count": 84,
   "metadata": {},
   "outputs": [
    {
     "data": {
      "text/plain": [
       "[10, 11, 12, 13, 14, 15, 16, 17, 18, 19, 20]"
      ]
     },
     "execution_count": 84,
     "metadata": {},
     "output_type": "execute_result"
    }
   ],
   "source": [
    "#example_2\n",
    "def range_num(num_1, num_2) :   \n",
    "    if num_1 > num_2: n=-1\n",
    "    else: n =1 \n",
    "    return [i for i in range(num_1, num_2 + n,n)]\n",
    "range_num(10, 20)"
   ]
  },
  {
   "cell_type": "code",
   "execution_count": null,
   "metadata": {},
   "outputs": [],
   "source": []
  },
  {
   "cell_type": "markdown",
   "metadata": {},
   "source": [
    "# "
   ]
  },
  {
   "cell_type": "code",
   "execution_count": null,
   "metadata": {},
   "outputs": [],
   "source": []
  }
 ],
 "metadata": {
  "kernelspec": {
   "display_name": "Python 3 (ipykernel)",
   "language": "python",
   "name": "python3"
  },
  "language_info": {
   "codemirror_mode": {
    "name": "ipython",
    "version": 3
   },
   "file_extension": ".py",
   "mimetype": "text/x-python",
   "name": "python",
   "nbconvert_exporter": "python",
   "pygments_lexer": "ipython3",
   "version": "3.8.10"
  }
 },
 "nbformat": 4,
 "nbformat_minor": 4
}
