{
 "cells": [
  {
   "cell_type": "code",
   "execution_count": 5,
   "id": "d6cdcf2e",
   "metadata": {},
   "outputs": [
    {
     "data": {
      "text/plain": [
       "5"
      ]
     },
     "execution_count": 5,
     "metadata": {},
     "output_type": "execute_result"
    }
   ],
   "source": [
    "#14\n",
    "from collections import Sequence\n",
    "from itertools import chain, count\n",
    "\n",
    "def depth(seq):\n",
    "    for level in count():\n",
    "        if not seq:\n",
    "            return level\n",
    "        seq = list(chain.from_iterable(s for s in seq if isinstance(s, Sequence)))\n",
    "\n",
    "depth([1, 4, [1, 4, [1, 4, [1, 4, [5]]]]])"
   ]
  },
  {
   "cell_type": "code",
   "execution_count": 10,
   "id": "397ca50a",
   "metadata": {},
   "outputs": [],
   "source": [
    "#11\n",
    "import itertools\n",
    "\n",
    "def ranges(i):\n",
    "    for a, b in itertools.groupby(enumerate(i), lambda pair: pair[1] - pair[0]):\n",
    "        b = list(b)\n",
    "        yield b[0][1], b[-1][1]\n"
   ]
  },
  {
   "cell_type": "code",
   "execution_count": 11,
   "id": "835039f8",
   "metadata": {},
   "outputs": [
    {
     "name": "stdout",
     "output_type": "stream",
     "text": [
      "[(0, 4), (7, 9), (11, 11)]\n"
     ]
    }
   ],
   "source": [
    "print(list(ranges([0, 1, 2, 3, 4, 7, 8, 9, 11])))"
   ]
  },
  {
   "cell_type": "code",
   "execution_count": 13,
   "id": "40e2ec64",
   "metadata": {},
   "outputs": [
    {
     "name": "stdout",
     "output_type": "stream",
     "text": [
      "(11, 'perpetually')\n"
     ]
    }
   ],
   "source": [
    "#3\n",
    "def longest(a):\n",
    "    df=[]\n",
    "    cv=[]\n",
    "    dic={}\n",
    "    for i in a.split(\" \"):\n",
    "        df.append(len(i))\n",
    "        cv.append(i)\n",
    "    for j,k in zip(df,cv):\n",
    "        dic[j] = k\n",
    "    print(max(dic.items()))\n",
    "longest(\"I will and ever will be gratefully and perpetually loving you Tesh!\")"
   ]
  },
  {
   "cell_type": "code",
   "execution_count": 43,
   "id": "ea1be7eb",
   "metadata": {},
   "outputs": [
    {
     "name": "stdout",
     "output_type": "stream",
     "text": [
      "garden_feast\n",
      "meat_festival\n",
      "['beef', 'meatball', 'bacon']\n",
      "['spinach', 'olives', 'mushroom']\n",
      "1\n",
      "2\n"
     ]
    }
   ],
   "source": [
    "#4\n",
    "class Pizza():\n",
    "    order_num = 0\n",
    " \n",
    "\n",
    "    def __init__(self,ingredients):\n",
    "        Pizza.order_num += 1\n",
    "        self.order_number = Pizza.order_num\n",
    "        self.ingredients = ingredients\n",
    "        self.pizza_type = \", \".join(ingredients)\n",
    "        self.ready_made_pizza = {\n",
    "        \"hawaiian\": [\"ham\", \"pineapple\"],\n",
    "        \"meat_festival\": [\"beef\", \"meatball\", \"bacon\"],\n",
    "        \"garden_feast\": [\"spinach\", \"olives\", \"mushroom\"]\n",
    "        }\n",
    "        for key in self.ready_made_pizza:\n",
    "            if self.ingredients == self.ready_made_pizza[key]:\n",
    "                self.pizza_type = key\n",
    " \n",
    "p1=Pizza([\"spinach\", \"olives\", \"mushroom\"])\n",
    "p2=Pizza([\"beef\", \"meatball\", \"bacon\"])\n",
    "print(p1.pizza_type)\n",
    "print(p2.pizza_type)\n",
    "print(p2.ingredients)\n",
    "print(p1.ingredients)\n",
    "print(p1.order_number)\n",
    "print(p2.order_number)"
   ]
  },
  {
   "cell_type": "code",
   "execution_count": 74,
   "id": "077e7b5c",
   "metadata": {},
   "outputs": [
    {
     "name": "stdout",
     "output_type": "stream",
     "text": [
      "While he rance, I fall into a trants...\n"
     ]
    }
   ],
   "source": [
    "#7\n",
    "sample_string=\"While he rants, I fall into a trance...\"\n",
    "a=[]\n",
    "for i in sample_string.split(\" \"):\n",
    "    if 'nts' in i:\n",
    "        aa = i.replace('nts','nce')\n",
    "        a.append(aa)\n",
    "    elif 'nce' in i:\n",
    "        bb=i.replace('nce','nts')\n",
    "        a.append(bb)\n",
    "    else:\n",
    "        a.append(i)\n",
    "    res=' '.join(a)\n",
    "print(res)"
   ]
  },
  {
   "cell_type": "code",
   "execution_count": 62,
   "id": "56b759ed",
   "metadata": {},
   "outputs": [
    {
     "name": "stdout",
     "output_type": "stream",
     "text": [
      "Wh\n",
      "he\n",
      "ra\n",
      "I\n",
      "fa\n",
      "in\n",
      "a\n",
      "tr\n"
     ]
    }
   ],
   "source": []
  },
  {
   "cell_type": "code",
   "execution_count": 75,
   "id": "e159b40d",
   "metadata": {},
   "outputs": [
    {
     "name": "stdout",
     "output_type": "stream",
     "text": [
      "Length of the deck of cards | Perfect shuffles needed to obtain the same deck back\n",
      "52 | 2\n"
     ]
    }
   ],
   "source": [
    "#5\n",
    "import doctest\n",
    "import random\n",
    "\n",
    "\n",
    "def flatten(lst):\n",
    "    return [i for sublst in lst for i in sublst]\n",
    "\n",
    "def magic_shuffle(deck):\n",
    "    half = len(deck) // 2\n",
    "    return flatten(zip(deck[:half], deck[half:]))\n",
    "\n",
    "def after_how_many_is_equal(shuffle_type,start,end):\n",
    "    start = shuffle_type(start)\n",
    "    counter = 1\n",
    "    while start != end:\n",
    "        start = shuffle_type(start)\n",
    "        counter += 1\n",
    "        return counter\n",
    "\n",
    "def main():\n",
    "    doctest.testmod()\n",
    "\n",
    "print(\"Length of the deck of cards | Perfect shuffles needed to obtain the same deck back\")\n",
    "for length in (8, 14, 52):\n",
    "    deck = list(range(length))\n",
    "shuffles_needed = after_how_many_is_equal(magic_shuffle,deck,deck)\n",
    "print(\"{} | {}\".format(length,shuffles_needed))\n",
    "\n",
    "\n",
    "if __name__ == \"__main__\":\n",
    "    main()"
   ]
  },
  {
   "cell_type": "code",
   "execution_count": 81,
   "id": "8365878d",
   "metadata": {},
   "outputs": [
    {
     "name": "stdout",
     "output_type": "stream",
     "text": [
      "Original dictionary is : \n",
      "{'Mubashir': 'Name', '31': 'Age', 'Male': 'Sex', 'Pilot': 'Job', 'Matt': 'Name', '40': 'Age', 'Programmer': 'Job'}\n",
      "\n",
      "Dictionary after swapping is :  \n",
      "keys: values\n",
      "Name  : ['Mubashir', 'Matt']\n",
      "Age  : ['31', '40']\n",
      "Sex  : ['Male']\n",
      "Job  : ['Pilot', 'Programmer']\n"
     ]
    }
   ],
   "source": [
    "#12\n",
    "old_dict = {\n",
    "\"Mubashir\": \"Name\",\n",
    "\"31\": \"Age\",\n",
    "\"Male\": \"Sex\",\n",
    "\"Pilot\": \"Job\",\n",
    "\"Matt\": \"Name\",\n",
    "\"40\": \"Age\",\n",
    "\"Programmer\": \"Job\"\n",
    "}\n",
    "  \n",
    "\n",
    "print (\"Original dictionary is : \")\n",
    "print(old_dict) \n",
    "  \n",
    "print()\n",
    "new_dict = {}\n",
    "for key, value in old_dict.items():\n",
    "   if value in new_dict:\n",
    "       new_dict[value].append(key)\n",
    "   else:\n",
    "       new_dict[value]=[key]\n",
    "  \n",
    "\n",
    "print (\"Dictionary after swapping is :  \") \n",
    "print(\"keys: values\")\n",
    "for i in new_dict:\n",
    "    print(i, \" :\", new_dict[i])"
   ]
  },
  {
   "cell_type": "code",
   "execution_count": 86,
   "id": "436c0140",
   "metadata": {},
   "outputs": [
    {
     "name": "stdout",
     "output_type": "stream",
     "text": [
      "enterthe string --->abcabcbb\n",
      "abc\n"
     ]
    }
   ],
   "source": [
    "#1\n",
    "a=input(\"enterthe string --->\")\n",
    "cv=[]\n",
    "str1 = \"\"\n",
    "for i in a:\n",
    "    if i not in cv:\n",
    "        cv.append(i)\n",
    "\n",
    "df=str1.join(cv)\n",
    "print(df)"
   ]
  },
  {
   "cell_type": "code",
   "execution_count": null,
   "id": "3a19ef18",
   "metadata": {},
   "outputs": [],
   "source": []
  }
 ],
 "metadata": {
  "kernelspec": {
   "display_name": "Python 3 (ipykernel)",
   "language": "python",
   "name": "python3"
  },
  "language_info": {
   "codemirror_mode": {
    "name": "ipython",
    "version": 3
   },
   "file_extension": ".py",
   "mimetype": "text/x-python",
   "name": "python",
   "nbconvert_exporter": "python",
   "pygments_lexer": "ipython3",
   "version": "3.8.10"
  }
 },
 "nbformat": 4,
 "nbformat_minor": 5
}
