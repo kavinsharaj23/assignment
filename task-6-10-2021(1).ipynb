{
 "cells": [
  {
   "cell_type": "code",
   "execution_count": 2,
   "id": "23767640",
   "metadata": {},
   "outputs": [
    {
     "name": "stdout",
     "output_type": "stream",
     "text": [
      " 6\n",
      " 0\n",
      "arithmetic exception.\n"
     ]
    }
   ],
   "source": [
    "#ArithmeticError\n",
    "try:  \n",
    "    a = int(input(' '))\n",
    "    b = int(input(' '))\n",
    "    print (a/b)\n",
    "except ArithmeticError:  \n",
    "        print (\"arithmetic exception.\")\n",
    "else:  \n",
    "    print (\"Success.\")"
   ]
  },
  {
   "cell_type": "code",
   "execution_count": 3,
   "id": "815878f1",
   "metadata": {},
   "outputs": [
    {
     "name": "stdout",
     "output_type": "stream",
     "text": [
      "Index error.\n"
     ]
    }
   ],
   "source": [
    "#index error\n",
    "try: \n",
    "    a = [1, 2, 3] \n",
    "    print (a[7]) \n",
    "except LookupError: \n",
    "    print (\"Index error.\")\n",
    "else: \n",
    "    print (\"Success\")"
   ]
  },
  {
   "cell_type": "code",
   "execution_count": 4,
   "id": "6b55f25d",
   "metadata": {},
   "outputs": [
    {
     "name": "stdout",
     "output_type": "stream",
     "text": [
      "Invalid Operation\n"
     ]
    }
   ],
   "source": [
    "#AssertionError\n",
    "try:\n",
    "    x = 1\n",
    "    y = 0\n",
    "    assert y != 0, \"Invalid Operation\"\n",
    "    print(x / y)\n",
    "except AssertionError as msg:\n",
    "    print(msg)"
   ]
  },
  {
   "cell_type": "code",
   "execution_count": 5,
   "id": "bdda4151",
   "metadata": {},
   "outputs": [
    {
     "name": "stdout",
     "output_type": "stream",
     "text": [
      "10\n"
     ]
    }
   ],
   "source": [
    "#AttributeError\n",
    "X = 10\n",
    "try:\n",
    "    X.append(6)\n",
    "except AttributeError:\n",
    "    print(X)"
   ]
  },
  {
   "cell_type": "code",
   "execution_count": 6,
   "id": "94b8316c",
   "metadata": {},
   "outputs": [
    {
     "name": "stdout",
     "output_type": "stream",
     "text": [
      "type error\n"
     ]
    }
   ],
   "source": [
    "#typeerror\n",
    "try:\n",
    "    name = \"kavin\"\n",
    "except TypeError:\n",
    "    print(name())\n",
    "print('type error')"
   ]
  },
  {
   "cell_type": "code",
   "execution_count": 7,
   "id": "30727bcd",
   "metadata": {},
   "outputs": [
    {
     "name": "stdout",
     "output_type": "stream",
     "text": [
      "Zero Division \n"
     ]
    }
   ],
   "source": [
    "#ZeroDivisionError\n",
    "try:  \n",
    "    a = 100 / 0\n",
    "    print (a)\n",
    "except ZeroDivisionError:  \n",
    "        print (\"Zero Division \" )\n",
    "else:  \n",
    "    print (\" no error\")"
   ]
  },
  {
   "cell_type": "code",
   "execution_count": 8,
   "id": "6c23cd96",
   "metadata": {},
   "outputs": [
    {
     "name": "stdout",
     "output_type": "stream",
     "text": [
      "OverFlow Exception\n"
     ]
    }
   ],
   "source": [
    "#OverFlow Exception\n",
    "\n",
    "try:  \n",
    "    import math\n",
    "    print(math.exp(1000))\n",
    "except OverflowError:  \n",
    "        print (\"OverFlow Exception\")\n",
    "else:  \n",
    "    print (\" no error!\")"
   ]
  },
  {
   "cell_type": "code",
   "execution_count": 9,
   "id": "73f7c36b",
   "metadata": {},
   "outputs": [
    {
     "name": "stdout",
     "output_type": "stream",
     "text": [
      "Name Error\n"
     ]
    }
   ],
   "source": [
    "#NameError\n",
    "try:\n",
    "    print (ans)\n",
    "except NameError:  \n",
    "    print (\"Name Error\")\n",
    "else:  \n",
    "    print (\"no error!\")"
   ]
  },
  {
   "cell_type": "code",
   "execution_count": 10,
   "id": "e7db1231",
   "metadata": {},
   "outputs": [
    {
     "name": "stdout",
     "output_type": "stream",
     "text": [
      "Value Error\n"
     ]
    }
   ],
   "source": [
    "#valueError\n",
    "try:\n",
    "    print (float('kavin'))\n",
    "except ValueError:\n",
    "    print ('Value Error')\n",
    "else:\n",
    "    print ('no error!')\n"
   ]
  },
  {
   "cell_type": "code",
   "execution_count": null,
   "id": "4fbaa029",
   "metadata": {},
   "outputs": [],
   "source": [
    "#class\n"
   ]
  },
  {
   "cell_type": "code",
   "execution_count": 11,
   "id": "8bc901f7",
   "metadata": {},
   "outputs": [
    {
     "name": "stdout",
     "output_type": "stream",
     "text": [
      "student details:\n",
      "Role:  student\n",
      "name:  kavin\n",
      "Course:  Mechanical\n",
      "student details:\n",
      "Role:  student\n",
      "name:  vijay\n",
      "Course:  computer science\n",
      "student\n"
     ]
    }
   ],
   "source": [
    "class student:\n",
    "    student_details= 'student'\n",
    "    def __init__(self, name, course):\n",
    "        self.name = name\n",
    "        self.course =course\n",
    "\n",
    "\n",
    "student_1= student(\"kavin\", \"Mechanical\")\n",
    "student_2= student(\"vijay\", \"computer science\")\n",
    "\n",
    "print('student details:')\n",
    "print('Role: ',student_1.student_details)\n",
    "print('name: ', student_1.name)\n",
    "print('Course: ',student_1.course)\n",
    "\n",
    "\n",
    "print('student details:')\n",
    "print('Role: ',student_2.student_details)\n",
    "print('name: ', student_2.name)\n",
    "print('Course: ',student_2.course)\n",
    "\n",
    "\n",
    "\n",
    "\n",
    "print(student.student_details)"
   ]
  },
  {
   "cell_type": "code",
   "execution_count": 12,
   "id": "d505ad34",
   "metadata": {},
   "outputs": [
    {
     "name": "stdout",
     "output_type": "stream",
     "text": [
      "kavin sharaj\n"
     ]
    }
   ],
   "source": [
    "#inheritance\n",
    "class Person:\n",
    "  def __init__(self, first_name, last_name):\n",
    "    self.firstname = first_name\n",
    "    self.lastname = last_name\n",
    "\n",
    "  def fullname(self):\n",
    "    print(self.firstname, self.lastname)\n",
    "\n",
    "\n",
    "x = Person(\"kavin\", \"sharaj\")\n",
    "x.fullname()"
   ]
  },
  {
   "cell_type": "code",
   "execution_count": 14,
   "id": "8a2bfad4",
   "metadata": {},
   "outputs": [
    {
     "name": "stdout",
     "output_type": "stream",
     "text": [
      "Selling Price: 900\n",
      "Selling Price: 900\n",
      "Selling Price: 1000\n"
     ]
    }
   ],
   "source": [
    "#encapsulation\n",
    "class Computer:\n",
    "\n",
    "    def __init__(self):\n",
    "        self.__maxprice = 900\n",
    "\n",
    "    def sell(self):\n",
    "        print(\"Selling Price: {}\".format(self.__maxprice))\n",
    "\n",
    "    def setMaxPrice(self, price):\n",
    "        self.__maxprice = price\n",
    "\n",
    "c = Computer()\n",
    "c.sell()\n",
    "c.__maxprice = 1000\n",
    "c.sell()\n",
    "\n",
    "c.setMaxPrice(1000)\n",
    "c.sell()"
   ]
  },
  {
   "cell_type": "code",
   "execution_count": 15,
   "id": "38117214",
   "metadata": {},
   "outputs": [
    {
     "name": "stdout",
     "output_type": "stream",
     "text": [
      "Vegetable\n",
      "Red\n",
      "Fruit\n",
      "Red\n"
     ]
    }
   ],
   "source": [
    "class Tomato(): \n",
    "     def type(self): \n",
    "       print(\"Vegetable\") \n",
    "     def color(self):\n",
    "       print(\"Red\") \n",
    "class Apple(): \n",
    "     def type(self): \n",
    "       print(\"Fruit\") \n",
    "     def color(self): \n",
    "       print(\"Red\") \n",
    "      \n",
    "def func(obj): \n",
    "       obj.type() \n",
    "       obj.color()\n",
    "        \n",
    "obj_tomato = Tomato() \n",
    "obj_apple = Apple() \n",
    "func(obj_tomato) \n",
    "func(obj_apple)\n"
   ]
  },
  {
   "cell_type": "code",
   "execution_count": 16,
   "id": "5986c674",
   "metadata": {},
   "outputs": [],
   "source": [
    "#inbuiltfunctions"
   ]
  },
  {
   "cell_type": "code",
   "execution_count": 17,
   "id": "f891e07d",
   "metadata": {},
   "outputs": [
    {
     "name": "stdout",
     "output_type": "stream",
     "text": [
      "Enter your name:kavin\n",
      "Hello kavin\n"
     ]
    }
   ],
   "source": [
    "x = input('Enter your name:')\n",
    "print('Hello ' + x)"
   ]
  },
  {
   "cell_type": "code",
   "execution_count": 18,
   "id": "f4c58319",
   "metadata": {},
   "outputs": [
    {
     "name": "stdout",
     "output_type": "stream",
     "text": [
      "Enter the num3+5j\n",
      "5.830951894845301\n"
     ]
    }
   ],
   "source": [
    "x=complex(input('Enter the num'))\n",
    "print(abs(x))\n"
   ]
  },
  {
   "cell_type": "code",
   "execution_count": 19,
   "id": "873c0fcb",
   "metadata": {},
   "outputs": [
    {
     "data": {
      "text/plain": [
       "False"
      ]
     },
     "execution_count": 19,
     "metadata": {},
     "output_type": "execute_result"
    }
   ],
   "source": [
    "mydict = {0 : \"Apple\", 1 : \"Orange\", 2 : 'Mango'}\n",
    "x = all(mydict)\n",
    "x"
   ]
  },
  {
   "cell_type": "code",
   "execution_count": 20,
   "id": "496afbd8",
   "metadata": {},
   "outputs": [
    {
     "data": {
      "text/plain": [
       "True"
      ]
     },
     "execution_count": 20,
     "metadata": {},
     "output_type": "execute_result"
    }
   ],
   "source": [
    "mydict = {0 : \"Apple\", 1 : \"Orange\", 2 : 'Mango'}\n",
    "x = any(mydict)\n",
    "x"
   ]
  },
  {
   "cell_type": "code",
   "execution_count": 22,
   "id": "b95e149c",
   "metadata": {},
   "outputs": [
    {
     "name": "stdout",
     "output_type": "stream",
     "text": [
      "vijay 21\n",
      "amruth 22\n",
      "yuga 21\n"
     ]
    }
   ],
   "source": [
    "names = ['vijay', 'amruth', 'yuga']\n",
    "ages = [21, 22, 21]\n",
    " \n",
    "for i, (name, age) in enumerate(zip(names, ages)):\n",
    "    print( name, age)"
   ]
  },
  {
   "cell_type": "code",
   "execution_count": 23,
   "id": "153ba969",
   "metadata": {},
   "outputs": [
    {
     "ename": "TypeError",
     "evalue": "'frozenset' object does not support item assignment",
     "output_type": "error",
     "traceback": [
      "\u001b[0;31m---------------------------------------------------------------------------\u001b[0m",
      "\u001b[0;31mTypeError\u001b[0m                                 Traceback (most recent call last)",
      "\u001b[0;32m/tmp/ipykernel_56553/1184833081.py\u001b[0m in \u001b[0;36m<module>\u001b[0;34m\u001b[0m\n\u001b[1;32m      1\u001b[0m \u001b[0mmylist\u001b[0m \u001b[0;34m=\u001b[0m \u001b[0;34m[\u001b[0m\u001b[0;34m'apple'\u001b[0m\u001b[0;34m,\u001b[0m \u001b[0;34m'banana'\u001b[0m\u001b[0;34m,\u001b[0m \u001b[0;34m'cherry'\u001b[0m\u001b[0;34m]\u001b[0m\u001b[0;34m\u001b[0m\u001b[0;34m\u001b[0m\u001b[0m\n\u001b[1;32m      2\u001b[0m \u001b[0mx\u001b[0m \u001b[0;34m=\u001b[0m \u001b[0mfrozenset\u001b[0m\u001b[0;34m(\u001b[0m\u001b[0mmylist\u001b[0m\u001b[0;34m)\u001b[0m\u001b[0;34m\u001b[0m\u001b[0;34m\u001b[0m\u001b[0m\n\u001b[0;32m----> 3\u001b[0;31m \u001b[0mx\u001b[0m\u001b[0;34m[\u001b[0m\u001b[0;36m1\u001b[0m\u001b[0;34m]\u001b[0m \u001b[0;34m=\u001b[0m \u001b[0;34m\"strawberry\"\u001b[0m\u001b[0;34m\u001b[0m\u001b[0;34m\u001b[0m\u001b[0m\n\u001b[0m",
      "\u001b[0;31mTypeError\u001b[0m: 'frozenset' object does not support item assignment"
     ]
    }
   ],
   "source": [
    "mylist = ['apple', 'banana', 'cherry']\n",
    "x = frozenset(mylist)\n",
    "x[1] = \"strawberry\""
   ]
  },
  {
   "cell_type": "code",
   "execution_count": 24,
   "id": "f9c26b0a",
   "metadata": {},
   "outputs": [
    {
     "name": "stdout",
     "output_type": "stream",
     "text": [
      "[24, 32]\n"
     ]
    }
   ],
   "source": [
    "ages = [5, 12, 17, 18, 24, 32]\n",
    "\n",
    "adults = list(filter(lambda age: age>18, ages))\n",
    " \n",
    "print(adults)"
   ]
  },
  {
   "cell_type": "code",
   "execution_count": 25,
   "id": "42965d8d",
   "metadata": {},
   "outputs": [
    {
     "name": "stdout",
     "output_type": "stream",
     "text": [
      "[1, 1, 0, 1, 0, 0, 1, 1, 1, 1]\n"
     ]
    }
   ],
   "source": [
    "list_1 = [5, 7, 22, 97, 54, 62, 77, 23, 73, 61]\n",
    " \n",
    "final_list = list(map(lambda x: x%2 , list_1))\n",
    "print(final_list)"
   ]
  },
  {
   "cell_type": "code",
   "execution_count": 26,
   "id": "61dd59b0",
   "metadata": {},
   "outputs": [
    {
     "name": "stdout",
     "output_type": "stream",
     "text": [
      "Hello Kavin, Good morning!\n"
     ]
    }
   ],
   "source": [
    "#defaultargument\n",
    "def greet(name, msg=\"Good morning!\"):\n",
    "\n",
    "\n",
    "    print(\"Hello\", name + ', ' + msg)\n",
    "\n",
    "\n",
    "greet(\"Kavin\")"
   ]
  },
  {
   "cell_type": "code",
   "execution_count": 27,
   "id": "27fa98b2",
   "metadata": {},
   "outputs": [
    {
     "name": "stdout",
     "output_type": "stream",
     "text": [
      "Hello deepa\n",
      "Hello vijay\n",
      "Hello amruth\n",
      "Hello yuga\n"
     ]
    }
   ],
   "source": [
    "#arbitaryarguments\n",
    "def greet(*names):\n",
    "    for name in names:\n",
    "        print(\"Hello\", name)\n",
    "\n",
    "\n",
    "greet(\"deepa\", \"vijay\", \"amruth\", \"yuga\")"
   ]
  },
  {
   "cell_type": "code",
   "execution_count": 28,
   "id": "60d8e99e",
   "metadata": {},
   "outputs": [
    {
     "name": "stdout",
     "output_type": "stream",
     "text": [
      "The youngest studnet is vijay\n"
     ]
    }
   ],
   "source": [
    "#keywordargument\n",
    "def student(student_1, student_2, student_3):\n",
    "  print(\"\" +student_3 )\n",
    "\n",
    "student(student_1 = \"amruth\",student_2='yuga',student_3='vijay')"
   ]
  },
  {
   "cell_type": "code",
   "execution_count": null,
   "id": "64ba03a8",
   "metadata": {},
   "outputs": [],
   "source": []
  }
 ],
 "metadata": {
  "kernelspec": {
   "display_name": "Python 3 (ipykernel)",
   "language": "python",
   "name": "python3"
  },
  "language_info": {
   "codemirror_mode": {
    "name": "ipython",
    "version": 3
   },
   "file_extension": ".py",
   "mimetype": "text/x-python",
   "name": "python",
   "nbconvert_exporter": "python",
   "pygments_lexer": "ipython3",
   "version": "3.8.10"
  }
 },
 "nbformat": 4,
 "nbformat_minor": 5
}
