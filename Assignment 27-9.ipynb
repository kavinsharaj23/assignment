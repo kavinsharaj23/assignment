{
 "cells": [
  {
   "cell_type": "code",
   "execution_count": 3,
   "id": "fdd3f67c",
   "metadata": {},
   "outputs": [
    {
     "name": "stdout",
     "output_type": "stream",
     "text": [
      "Enter the Number32\n",
      "[2, 4, 8, 16]\n",
      "[2, 4, 8, 16]\n",
      "4\n",
      "None\n"
     ]
    }
   ],
   "source": [
    "#2\n",
    "def number(n):\n",
    "    num=int(n/3)\n",
    "    x=[]\n",
    "    div=[]\n",
    "    for i in range(1,num):\n",
    "        b=2**i\n",
    "        x.append(b)\n",
    "        if b > num :\n",
    "            break\n",
    "    print(x)\n",
    "\n",
    "    for j in x:\n",
    "        if n%j==0:\n",
    "            div.append(j)\n",
    "    print(div)\n",
    "    print(len(div))\n",
    "print(number(n=int(input('Enter the Number'))))"
   ]
  },
  {
   "cell_type": "code",
   "execution_count": 5,
   "id": "b9dbf359",
   "metadata": {},
   "outputs": [
    {
     "name": "stdout",
     "output_type": "stream",
     "text": [
      "ENTER THE NUMBER 5\n",
      "Enter the number 3\n",
      "aabaabab\n"
     ]
    }
   ],
   "source": [
    "class Solution:\n",
    "\n",
    "    def strWithout3a3b(self, A, B):\n",
    "        ans = []\n",
    " \n",
    "        while A or B:\n",
    "            if len(ans) >= 2 and ans[-1] == ans[-2]:\n",
    "                writeA = ans[-1] == 'b'\n",
    "            else:\n",
    "                writeA = A >= B\n",
    " \n",
    "            if writeA:\n",
    "                A -= 1\n",
    "                ans.append('a')\n",
    "            else:\n",
    "                B -= 1\n",
    "                ans.append('b')\n",
    " \n",
    "        return \"\".join(ans)\n",
    "S1 = Solution()\n",
    "print(S1.strWithout3a3b(A=int(input(\"ENTER THE NUMBER \")),B=int(input(\"Enter the number \"))))"
   ]
  },
  {
   "cell_type": "code",
   "execution_count": 6,
   "id": "3962edcf",
   "metadata": {},
   "outputs": [
    {
     "name": "stdout",
     "output_type": "stream",
     "text": [
      "enter your password:Kavinsharath@23\n",
      "Valid Password\n"
     ]
    }
   ],
   "source": [
    "#5 c)\n",
    "import re\n",
    "\n",
    "password =input(\"enter your password:\")\n",
    "\n",
    "count = 0\n",
    "\n",
    "while True:\n",
    "    if (len(password)<8):\n",
    "        count = -1\n",
    "        break\n",
    "\n",
    "    elif not re.search(\"[a-z]\", password):\n",
    "        count = -1\n",
    "        break\n",
    "\n",
    "    elif not re.search(\"[A-Z]\", password):\n",
    "        count = -1\n",
    "        break\n",
    "\n",
    "    elif not re.search(\"[0-9]\", password):\n",
    "        count = -1\n",
    "        break\n",
    "\n",
    "    elif not re.search(\"[*&#@$]\", password):\n",
    "        count = -1\n",
    "        break\n",
    "\n",
    "    elif re.search(\"\\s\", password):\n",
    "        count = -1\n",
    "        break\n",
    "\n",
    "    else:\n",
    "\n",
    "        count = 0\n",
    "\n",
    "        print(\"Valid Password\")\n",
    "\n",
    "        break         \n",
    "\n",
    "if count ==-1:\n",
    "    print(\"Not a Valid Password\")\n",
    "\n"
   ]
  },
  {
   "cell_type": "code",
   "execution_count": 21,
   "id": "fa0701a4",
   "metadata": {},
   "outputs": [
    {
     "name": "stdout",
     "output_type": "stream",
     "text": [
      "<class 'list'>\n",
      "<class 'list'>\n",
      "Everyone cannot see the screen\n"
     ]
    }
   ],
   "source": [
    "#4\n",
    "def list_new(a):\n",
    "    list1 = []\n",
    "    import numpy as np\n",
    "#     a = [[1,2,3],[2,3,4],[4,5,6]]\n",
    "    print(type(a))\n",
    "    new = np.array(a)\n",
    "    x_tanspos = np.transpose(new)\n",
    "    list_x_tanspos = x_tanspos.tolist()\n",
    "    print(type(list_x_tanspos))\n",
    "    if list_x_tanspos == sorted(list_x_tanspos):\n",
    "        print(\"Everyone can see the screen\")\n",
    "    else:\n",
    "        print(\"Everyone cannot see the screen\")\n",
    "\n",
    "list_new([[1, 2, 3, 2, 1, 1],\n",
    "[2, 4, 4, 3, 2, 2],\n",
    "[5, 5, 5, 10, 4, 4],\n",
    "[6, 6, 7, 6, 5, 5]])"
   ]
  },
  {
   "cell_type": "code",
   "execution_count": 22,
   "id": "820c810c",
   "metadata": {},
   "outputs": [
    {
     "ename": "SyntaxError",
     "evalue": "invalid syntax (2983276627.py, line 16)",
     "output_type": "error",
     "traceback": [
      "\u001b[0;36m  File \u001b[0;32m\"/tmp/ipykernel_24679/2983276627.py\"\u001b[0;36m, line \u001b[0;32m16\u001b[0m\n\u001b[0;31m    else:\u001b[0m\n\u001b[0m    ^\u001b[0m\n\u001b[0;31mSyntaxError\u001b[0m\u001b[0;31m:\u001b[0m invalid syntax\n"
     ]
    }
   ],
   "source": [
    "#1\n",
    "def solution(a,b):\n",
    "    en_rate = 2\n",
    "    pr_rate_1 = 3\n",
    "    pr_rate_2 = 4\n",
    "    if a[1] == b[1]:\n",
    "        out = en_rate + (1 * pr_rate_1)\n",
    "        print(out)\n",
    "    else:\n",
    "        a_0 = ''.join(filter(str.isalnum, a))\n",
    "        print(a_0)\n",
    "        a_0 = int(a_0)\n",
    "        \n",
    "        \n",
    "        out = en_rate + (1 * pr_rate_1) + (1 * pr_rate_2 )\n",
    "        print(out) \n",
    "    else:\n",
    "        if len(str(bb_1)) == 3:\n",
    "            bb_2 = str(bb_1)\n",
    "            bb_3 = int(bb_2[0]) + 1\n",
    "            #print(bb_3)\n",
    "            out = en_rate + (1 * pr_rate_1) + (bb_3 * pr_rate_2 )\n",
    "            print(out) else:\n",
    "            bb_2 = str(bb_1)\n",
    "            bb_3 = int(bb_2[0:2]) + 1\n",
    "            #print(bb_3)\n",
    "            out = en_rate + (1 * pr_rate_1) + (1 * pr_rate_2 )\n",
    "            print(out)\n",
    "print(solution(a=(input(\"ENTER THE NUMBER \")),b=(input(\"Enter the number \"))))\n"
   ]
  },
  {
   "cell_type": "code",
   "execution_count": 27,
   "id": "1ca87814",
   "metadata": {},
   "outputs": [],
   "source": [
    "#5\n",
    "import numpy as np\n"
   ]
  },
  {
   "cell_type": "code",
   "execution_count": 25,
   "id": "d232ed2c",
   "metadata": {},
   "outputs": [
    {
     "name": "stdout",
     "output_type": "stream",
     "text": [
      "[500, 90, 9]\n"
     ]
    }
   ],
   "source": [
    "def num_split(num):\n",
    "    num = str(num)\n",
    "    \n",
    "    num = [c for c in num]\n",
    "    num = num[::-1]\n",
    "    num_lis = []\n",
    "    f = 1\n",
    "    for i in range(len(num)):\n",
    "        num_lis.append(int(num[i])*f)\n",
    "        f *= 10\n",
    "    print(num_lis[::-1])\n",
    "\n",
    "\n",
    "num_split(599)\n",
    "        "
   ]
  },
  {
   "cell_type": "code",
   "execution_count": 30,
   "id": "29ae7b18",
   "metadata": {},
   "outputs": [
    {
     "name": "stdout",
     "output_type": "stream",
     "text": [
      "Enter the String-->  abcd\n",
      "Enter the String-->  efgh\n"
     ]
    },
    {
     "data": {
      "text/plain": [
       "True"
      ]
     },
     "execution_count": 30,
     "metadata": {},
     "output_type": "execute_result"
    }
   ],
   "source": [
    "def isomorphic(a,b):\n",
    "    iso_s = {}\n",
    "    iso_t = {}\n",
    "    for i, value in enumerate(a):\n",
    "        iso_s[value]= iso_s.get(value,[]) + [i]\n",
    "    for j, value in enumerate(b):\n",
    "        iso_t[value]= iso_t.get(value,[]) + [j]\n",
    "    if sorted(iso_s.values()) == sorted(iso_t.values()):\n",
    "        return True\n",
    "    else:\n",
    "        return False\n",
    "isomorphic(a=input(\"Enter the String-->  \"),b=input(\"Enter the String-->  \"))"
   ]
  },
  {
   "cell_type": "code",
   "execution_count": 38,
   "id": "38d72c89",
   "metadata": {},
   "outputs": [
    {
     "name": "stdout",
     "output_type": "stream",
     "text": [
      "['01 Jan 2007', '10 Jul 2016', '2 Dec 2017', '11 Jun 2018', '23 Jun 2018', '01 Jan 2019']\n",
      "23 Jun 2018\n",
      "2 Dec 2017\n",
      "11 Jun 2018\n",
      "01 Jan 2019\n",
      "10 Jul 2016\n",
      "01 Jan 2007\n"
     ]
    }
   ],
   "source": [
    "#5\n",
    "from datetime import datetime\n",
    "\n",
    "def datenew(dates):\n",
    "    dates = [\"23 Jun 2018\", \"2 Dec 2017\", \"11 Jun 2018\", \"01 Jan 2019\", \"10 Jul 2016\", \"01 Jan 2007\"]\n",
    "\n",
    "    for i in range(len(dates)):\n",
    "        print(dates[i])\n",
    "\n",
    "if __name__ == '__main__':\n",
    "    dates = [\"23 Jun 2018\", \"2 Dec 2017\", \"11 Jun 2018\",\"01 Jan 2019\", \"10 Jul 2016\", \"01 Jan 2007\"]\n",
    "    dates.sort(key = lambda date:datetime.strptime(date, \"%d %b %Y\"))\n",
    "\n",
    "    print(dates)\n",
    "\n",
    "datenew(dates)"
   ]
  },
  {
   "cell_type": "code",
   "execution_count": null,
   "id": "5906839e",
   "metadata": {},
   "outputs": [],
   "source": []
  }
 ],
 "metadata": {
  "kernelspec": {
   "display_name": "Python 3 (ipykernel)",
   "language": "python",
   "name": "python3"
  },
  "language_info": {
   "codemirror_mode": {
    "name": "ipython",
    "version": 3
   },
   "file_extension": ".py",
   "mimetype": "text/x-python",
   "name": "python",
   "nbconvert_exporter": "python",
   "pygments_lexer": "ipython3",
   "version": "3.8.10"
  }
 },
 "nbformat": 4,
 "nbformat_minor": 5
}
